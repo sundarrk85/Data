{
 "cells": [
  {
   "cell_type": "code",
   "execution_count": 6,
   "metadata": {},
   "outputs": [
    {
     "name": "stdout",
     "output_type": "stream",
     "text": [
      "['1505', '1540', '1575', '1610', '1645', '1680', '1715', '1750', '1785', '1820', '1855', '1890', '1925', '1960', '1995', '2030', '2065', '2100', '2135', '2170', '2205', '2240', '2275', '2310', '2345', '2380', '2415', '2450', '2485', '2520', '2555', '2590', '2625', '2660', '2695']\n",
      "1505, 1540, 1575, 1610, 1645, 1680, 1715, 1750, 1785, 1820, 1855, 1890, 1925, 1960, 1995, 2030, 2065, 2100, 2135, 2170, 2205, 2240, 2275, 2310, 2345, 2380, 2415, 2450, 2485, 2520, 2555, 2590, 2625, 2660, 2695\n"
     ]
    }
   ],
   "source": [
    "# Python Exercise: Find numbers which are divisible by 7 and multiple of 5 between a range\n",
    "\n",
    "numbers = []\n",
    "for i in range(1500,2701):\n",
    "    #(i % 7 == 0) ---> Divisible by 7\n",
    "    #(i % 5 == 0) ---> multiples of 5\n",
    "    if (i % 7 == 0) and (i % 5 == 0):\n",
    "        numbers.append(str(i))\n",
    "print(numbers) # output as list\n",
    "print(', '.join(numbers)) # output as CSV\n",
    "\n",
    "\n"
   ]
  },
  {
   "cell_type": "code",
   "execution_count": null,
   "metadata": {},
   "outputs": [
    {
     "name": "stdout",
     "output_type": "stream",
     "text": [
      "Temp in F is 100.4\n",
      "Temp in F is 48.888888888888886\n"
     ]
    }
   ],
   "source": [
    "# Temp to F convertor\n",
    "\n",
    "#To convert Celsius to Fahrenheit, use the formula: °F = (°C × 9/5) + 32\n",
    "# F to C (32°F − 32) × 5/9\n",
    "\n",
    "temperature_in_Celsius = int(input('Enter a temperature in C: '))\n",
    "print(f'Temp in F is {(temperature_in_Celsius * 9/5) + 32}')\n",
    "\n",
    "temperature_in_F = int(input('Enter a temperature in F: '))\n",
    "print(f'Temp in C is {(temperature_in_F - 32) * 5/9}')"
   ]
  },
  {
   "cell_type": "code",
   "execution_count": 12,
   "metadata": {},
   "outputs": [
    {
     "name": "stdout",
     "output_type": "stream",
     "text": [
      "The entered word is lksfgasf\n",
      "Reversed output is f\n"
     ]
    }
   ],
   "source": [
    "# Write a Python program that accepts a word from the user and reverses it.\n",
    "\n",
    "word = input('Enter a word: ')\n",
    "print(f'The entered word is {word}')\n",
    "print(f'Reversed output is {word[-1::]}')\n"
   ]
  },
  {
   "cell_type": "code",
   "execution_count": 5,
   "metadata": {},
   "outputs": [
    {
     "name": "stdout",
     "output_type": "stream",
     "text": [
      "Hello Sundar\n",
      "Hello 50\n"
     ]
    }
   ],
   "source": [
    "# functions\n",
    "\n",
    "def greet(name=50):\n",
    "    print(f'Hello {name}')\n",
    "\n",
    "# call function\n",
    "greet('Sundar')\n",
    "greet()\n",
    "\n"
   ]
  },
  {
   "cell_type": "code",
   "execution_count": 7,
   "metadata": {},
   "outputs": [
    {
     "name": "stdout",
     "output_type": "stream",
     "text": [
      "5\n",
      "5\n",
      "44\n",
      "Sundar\n",
      "545\n",
      "[454, 54254, 'Dhjsgfj']\n"
     ]
    }
   ],
   "source": [
    "def print_numbers(*args):\n",
    "    for i in args:\n",
    "        print(i)\n",
    "print_numbers(5,5,44,'Sundar',545,[454,54254,'Dhjsgfj'])\n",
    "\n",
    "    "
   ]
  },
  {
   "cell_type": "code",
   "execution_count": 9,
   "metadata": {},
   "outputs": [
    {
     "name": "stdout",
     "output_type": "stream",
     "text": [
      "Key is name and Value is Sundar\n",
      "name:Sundar\n",
      "Key is Age and Value is 25\n",
      "Age:25\n",
      "Key is key and Value is Value\n",
      "key:Value\n"
     ]
    }
   ],
   "source": [
    "# kwargs\n",
    "\n",
    "def sample(**kwargs):\n",
    "    for i,j in kwargs.items():\n",
    "        print(f'Key is {i} and Value is {j}')\n",
    "        print(f'{i}:{j}')\n",
    "\n",
    "sample(name='Sundar',Age=25,key=\"Value\")"
   ]
  },
  {
   "cell_type": "code",
   "execution_count": null,
   "metadata": {},
   "outputs": [],
   "source": [
    "def is_Strong_Password(pwd):\n",
    "    if len(pwd) < 8:\n",
    "        return False\n",
    "    elif not any(char.isdigit() for char in pwd):\n",
    "        return False"
   ]
  },
  {
   "cell_type": "code",
   "execution_count": 16,
   "metadata": {},
   "outputs": [
    {
     "data": {
      "text/plain": [
       "False"
      ]
     },
     "execution_count": 16,
     "metadata": {},
     "output_type": "execute_result"
    }
   ],
   "source": [
    "not any(c.isdigit() for c in \"jkasfkj3asv\")\n"
   ]
  },
  {
   "cell_type": "code",
   "execution_count": null,
   "metadata": {},
   "outputs": [
    {
     "name": "stdout",
     "output_type": "stream",
     "text": [
      "11\n"
     ]
    },
    {
     "data": {
      "text/plain": [
       "False"
      ]
     },
     "execution_count": 20,
     "metadata": {},
     "output_type": "execute_result"
    }
   ],
   "source": [
    "# lambda\n",
    "\n",
    "def addition(a,b):\n",
    "    return a+b\n",
    "\n",
    "add = lambda a,b: a+b\n",
    "\n",
    "type(add)\n",
    "print(add(5,6))\n",
    "\n",
    "\n",
    "\n",
    "\n",
    "\n",
    "\n",
    "    \n",
    "\n"
   ]
  },
  {
   "cell_type": "code",
   "execution_count": 24,
   "metadata": {},
   "outputs": [
    {
     "name": "stdout",
     "output_type": "stream",
     "text": [
      "True\n",
      "False\n",
      "Lambda\n"
     ]
    },
    {
     "data": {
      "text/plain": [
       "True"
      ]
     },
     "execution_count": 24,
     "metadata": {},
     "output_type": "execute_result"
    }
   ],
   "source": [
    "\n",
    "def even(num):\n",
    "    if num % 2 ==0:\n",
    "        return True\n",
    "    return False\n",
    "print(even(56))\n",
    "print(even(23))\n",
    "\n",
    "\n",
    "print('Lambda')\n",
    "even1=lambda l:l%2==0\n",
    "even1(56)\n",
    "\n",
    "\n"
   ]
  },
  {
   "cell_type": "code",
   "execution_count": 45,
   "metadata": {},
   "outputs": [
    {
     "name": "stdout",
     "output_type": "stream",
     "text": [
      "Map function\n",
      "[1, 4, 9, 16, 25]\n"
     ]
    },
    {
     "data": {
      "text/plain": [
       "[1, 4, 9, 16, 25]"
      ]
     },
     "execution_count": 45,
     "metadata": {},
     "output_type": "execute_result"
    }
   ],
   "source": [
    "def sq(n):\n",
    "    return n**2\n",
    "\n",
    "sq(4)\n",
    "\n",
    "\n",
    "print('Map function')\n",
    "num = [1,2,3,4,5]\n",
    "\n",
    "# 1st approach\n",
    "output = []\n",
    "for i in num:\n",
    "    output.append(i**2)\n",
    "print(output)\n",
    "\n",
    "\n",
    "\n",
    "# 2nd approach\n",
    "#list(map(sq,num))\n",
    "list(map(lambda n:n**2,num))"
   ]
  },
  {
   "cell_type": "code",
   "execution_count": null,
   "metadata": {},
   "outputs": [
    {
     "name": "stdout",
     "output_type": "stream",
     "text": [
      "[77, 110, 99]\n"
     ]
    }
   ],
   "source": [
    "n1 = [22,33,55]\n",
    "n2 = [55,77,44]\n",
    "\n",
    "\n",
    "##1 \n",
    "added = list(map(lambda x,y:x+y,n1,n2))\n",
    "print(added)\n"
   ]
  },
  {
   "cell_type": "code",
   "execution_count": 54,
   "metadata": {},
   "outputs": [
    {
     "data": {
      "text/plain": [
       "[2, 4, 6, 8, 10]"
      ]
     },
     "execution_count": 54,
     "metadata": {},
     "output_type": "execute_result"
    }
   ],
   "source": [
    "## FIlter\n",
    "\n",
    "lst = [1,2,3,4,5,6,7,8,9,10]\n",
    "list(filter(lambda x:x%2==0,lst))"
   ]
  },
  {
   "cell_type": "code",
   "execution_count": 57,
   "metadata": {},
   "outputs": [
    {
     "name": "stdout",
     "output_type": "stream",
     "text": [
      "[{'name': 'Jack', 'age': 26}, {'name': 'Hari', 'age': 26}, {'name': 'Priya', 'age': 30}]\n"
     ]
    }
   ],
   "source": [
    "# filter in dict\n",
    "\n",
    "people = [{'name':'Sundar', 'age': 25},{'name':'Jack', 'age': 26},{'name':'Hari', 'age': 26},{'name':'Priya', 'age': 30}]\n",
    "people\n",
    "\n",
    "def age_greater_than_25(person):\n",
    "    return person['age'] > 25\n",
    "\n",
    "\n",
    "a = list(filter(age_greater_than_25,people))\n",
    "print(a)"
   ]
  },
  {
   "cell_type": "code",
   "execution_count": null,
   "metadata": {},
   "outputs": [
    {
     "name": "stdout",
     "output_type": "stream",
     "text": [
      "3.141592653589793 and SQRT of 6 is 2.449489742783178\n"
     ]
    }
   ],
   "source": [
    "import math\n",
    "math.sqrt(16)\n",
    "\n",
    "from math import sqrt, pi\n",
    "print(f'{pi} and SQRT of 6 is {sqrt(6)}')\n"
   ]
  },
  {
   "cell_type": "code",
   "execution_count": 64,
   "metadata": {},
   "outputs": [
    {
     "data": {
      "text/plain": [
       "array([1, 2, 3, 4])"
      ]
     },
     "execution_count": 64,
     "metadata": {},
     "output_type": "execute_result"
    }
   ],
   "source": [
    "import numpy as np\n",
    "\n",
    "np.array([1,2,3,4])"
   ]
  },
  {
   "cell_type": "code",
   "execution_count": 76,
   "metadata": {},
   "outputs": [
    {
     "name": "stdout",
     "output_type": "stream",
     "text": [
      "1\n",
      "Apple\n",
      "array('i', [1, 2, 3])\n"
     ]
    }
   ],
   "source": [
    "import array\n",
    "import random as r\n",
    "\n",
    "print(r.randint(1,10))\n",
    "print(r.choice(['Apple','Banana',3,4,'Keyyy']))\n",
    "\n",
    "arr=array.array('i',[1,2,3])\n",
    "print(arr)\n"
   ]
  },
  {
   "cell_type": "code",
   "execution_count": null,
   "metadata": {},
   "outputs": [
    {
     "name": "stdout",
     "output_type": "stream",
     "text": [
      "d:\\Sundar\\Udemy\\Data Analyst\\Python\n"
     ]
    }
   ],
   "source": [
    "import os\n",
    "print(os.getcwd())\n",
    "\n",
    "\n",
    "os.makedirs('TEST') ## create directory\n",
    "\n",
    "\n",
    "# high level operations on collections of file\n",
    "\n"
   ]
  },
  {
   "cell_type": "code",
   "execution_count": 80,
   "metadata": {},
   "outputs": [
    {
     "name": "stdout",
     "output_type": "stream",
     "text": [
      "{\"name\": \"SUndar\", \"age\": 25}\n",
      "Parsed is {'name': 'SUndar', 'age': 25} and type is <class 'dict'>\n"
     ]
    }
   ],
   "source": [
    "import json\n",
    "data = {'name':'SUndar','age':25}\n",
    "\n",
    "strrr=json.dumps(data)\n",
    "print(strrr)\n",
    "type(strrr)\n",
    "\n",
    "\n",
    "Parsed_data = json.loads(strrr)\n",
    "print(f'Parsed is {Parsed_data} and type is {type(Parsed_data)}')"
   ]
  },
  {
   "cell_type": "code",
   "execution_count": 83,
   "metadata": {},
   "outputs": [
    {
     "name": "stdout",
     "output_type": "stream",
     "text": [
      "{'brand': 'Ford', 'model': 'Mustang', 'year': 1964}\n",
      "The type is <class 'str'> and json data is {\"brand\": \"Ford\", \"model\": \"Mustang\", \"year\": 1964}\n",
      "The type is <class 'dict'> and parsed data is {'brand': 'Ford', 'model': 'Mustang', 'year': 1964}\n"
     ]
    }
   ],
   "source": [
    "thisdict = {\n",
    "  \"brand\": \"Ford\",\n",
    "  \"model\": \"Mustang\",\n",
    "  \"year\": 1964\n",
    "}\n",
    "\n",
    "print(thisdict)\n",
    "\n",
    "json_str = json.dumps(thisdict)\n",
    "print(f'The type is {type(json_str)} and json data is {json_str}')\n",
    "\n",
    "parsed_str = json.loads(json_str)\n",
    "print(f'The type is {type(parsed_str)} and parsed data is {parsed_str}')\n",
    "\n",
    "\n",
    "\n"
   ]
  },
  {
   "cell_type": "code",
   "execution_count": 358,
   "metadata": {},
   "outputs": [
    {
     "name": "stdout",
     "output_type": "stream",
     "text": [
      "2025-03-23 00:14:47.039865\n",
      "2025-03-22 00:14:47.039865\n"
     ]
    }
   ],
   "source": [
    "## datetime\n",
    "\n",
    "\n",
    "from datetime import datetime, timedelta\n",
    "\n",
    "now = datetime.now()\n",
    "print(datetime.now())\n",
    "\n",
    "yesterday=now - timedelta(days=1)\n",
    "print(yesterday)"
   ]
  },
  {
   "cell_type": "code",
   "execution_count": null,
   "metadata": {},
   "outputs": [
    {
     "name": "stdout",
     "output_type": "stream",
     "text": [
      "Hello\n",
      "How are you?\n",
      "I am SUNDAR\n",
      "Hello \n",
      "How are you?\n",
      "I am SUNDAR\n",
      "1,2,3,4\n",
      "jsaghjasf\n",
      "asjfghjsaf\n"
     ]
    }
   ],
   "source": [
    "with open(\"example.txt\",'r') as file:\n",
    "    for line in file:\n",
    "        print(line.strip())\n",
    "#strip() removes extra line space in lines\n",
    "\n",
    "\n",
    "\n",
    "with open('example.txt','r') as f:\n",
    "    content=f.read()\n",
    "    print(content)\n",
    "\n"
   ]
  },
  {
   "cell_type": "code",
   "execution_count": 376,
   "metadata": {},
   "outputs": [],
   "source": [
    "## writing a file\n",
    "with open('example.txt','w') as file:\n",
    "    file.write('Hello world!\\n')\n",
    "    file.write('New line.\\n')"
   ]
  },
  {
   "cell_type": "code",
   "execution_count": 377,
   "metadata": {},
   "outputs": [],
   "source": [
    "with open('example.txt','a') as f:\n",
    "    f.write('Appended line.\\nTHis is my last line in this file')\n",
    "    "
   ]
  },
  {
   "cell_type": "code",
   "execution_count": 379,
   "metadata": {},
   "outputs": [],
   "source": [
    "lines = [\"first\\n\", \"second\\n\", \"third\\n\", \"fourth\\n\", \"fifth\\n\"]\n",
    "with open('example.txt','a') as f:\n",
    "    f.writelines(lines)"
   ]
  },
  {
   "cell_type": "code",
   "execution_count": 380,
   "metadata": {},
   "outputs": [],
   "source": [
    "## Binary\n",
    "\n",
    "data = b'\\x00\\x01\\x02\\x03'\n",
    "with open('example.bin','wb') as f:\n",
    "    f.write(data)"
   ]
  },
  {
   "cell_type": "code",
   "execution_count": null,
   "metadata": {},
   "outputs": [
    {
     "name": "stdout",
     "output_type": "stream",
     "text": [
      "b'\\x00\\x01\\x02\\x03'\n"
     ]
    }
   ],
   "source": [
    "with open('example.bin','rb') as file:\n",
    "    \"\"\"content = file.read()\n",
    "    print(content)\"\"\"\n",
    "    for i in file:\n",
    "        print(i)    "
   ]
  },
  {
   "cell_type": "code",
   "execution_count": 384,
   "metadata": {},
   "outputs": [],
   "source": [
    "with open('example.txt','r') as source:\n",
    "    content = source.read()\n",
    "\n",
    "with open('destination1.txt','a') as dest:\n",
    "    dest.write(content)"
   ]
  },
  {
   "cell_type": "code",
   "execution_count": 387,
   "metadata": {},
   "outputs": [
    {
     "name": "stdout",
     "output_type": "stream",
     "text": [
      "Lines: 13, Words: 23, Chars: 135\n"
     ]
    }
   ],
   "source": [
    "\n",
    "def count_text_file(path):\n",
    "    with open(path,\"r\") as file:\n",
    "        lines = file.readlines()\n",
    "        line_count = len(lines)\n",
    "        word_count = sum(len(i.split()) for i in lines)\n",
    "        char_count = sum(len(i) for i in lines)\n",
    "        return line_count, word_count, char_count\n",
    "    \n",
    "\n",
    "no_of_lines, no_of_word, no_of_char = count_text_file('example.txt')\n",
    "print(f'Lines: {no_of_lines}, Words: {no_of_word}, Chars: {no_of_char}')\n",
    "    \n",
    "\n"
   ]
  },
  {
   "cell_type": "code",
   "execution_count": 390,
   "metadata": {},
   "outputs": [
    {
     "name": "stdout",
     "output_type": "stream",
     "text": [
      "Hello All\n",
      "this is my second line\n"
     ]
    }
   ],
   "source": [
    "with open('example.txt','w+') as file:\n",
    "    file.write(\"Hello All\\nthis is my second line\")\n",
    "    file.seek(0)\n",
    "    content=file.read()\n",
    "    print(content)"
   ]
  },
  {
   "cell_type": "code",
   "execution_count": 392,
   "metadata": {},
   "outputs": [
    {
     "ename": "FileExistsError",
     "evalue": "[WinError 183] Cannot create a file when that file already exists: 'package'",
     "output_type": "error",
     "traceback": [
      "\u001b[1;31m---------------------------------------------------------------------------\u001b[0m",
      "\u001b[1;31mFileExistsError\u001b[0m                           Traceback (most recent call last)",
      "Cell \u001b[1;32mIn[392], line 2\u001b[0m\n\u001b[0;32m      1\u001b[0m \u001b[38;5;28mdir\u001b[39m \u001b[38;5;241m=\u001b[39m \u001b[38;5;124m'\u001b[39m\u001b[38;5;124mpackage\u001b[39m\u001b[38;5;124m'\u001b[39m\n\u001b[1;32m----> 2\u001b[0m \u001b[43mos\u001b[49m\u001b[38;5;241;43m.\u001b[39;49m\u001b[43mmkdir\u001b[49m\u001b[43m(\u001b[49m\u001b[38;5;28;43mdir\u001b[39;49m\u001b[43m)\u001b[49m\n\u001b[0;32m      3\u001b[0m \u001b[38;5;28mprint\u001b[39m(\u001b[38;5;124mf\u001b[39m\u001b[38;5;124m\"\u001b[39m\u001b[38;5;124mDirectory \u001b[39m\u001b[38;5;124m'\u001b[39m\u001b[38;5;132;01m{\u001b[39;00m\u001b[38;5;28mdir\u001b[39m\u001b[38;5;132;01m}\u001b[39;00m\u001b[38;5;124m'\u001b[39m\u001b[38;5;124m has been created successfully!\u001b[39m\u001b[38;5;124m\"\u001b[39m)\n",
      "\u001b[1;31mFileExistsError\u001b[0m: [WinError 183] Cannot create a file when that file already exists: 'package'"
     ]
    }
   ],
   "source": [
    "dir = 'package'\n",
    "os.mkdir(dir)\n",
    "print(f\"Directory '{dir}' has been created successfully!\")"
   ]
  }
 ],
 "metadata": {
  "kernelspec": {
   "display_name": "Python 3",
   "language": "python",
   "name": "python3"
  },
  "language_info": {
   "codemirror_mode": {
    "name": "ipython",
    "version": 3
   },
   "file_extension": ".py",
   "mimetype": "text/x-python",
   "name": "python",
   "nbconvert_exporter": "python",
   "pygments_lexer": "ipython3",
   "version": "3.12.0"
  }
 },
 "nbformat": 4,
 "nbformat_minor": 2
}
